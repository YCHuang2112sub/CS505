{
 "cells": [
  {
   "cell_type": "code",
   "execution_count": 6,
   "metadata": {},
   "outputs": [
    {
     "name": "stderr",
     "output_type": "stream",
     "text": [
      "ERROR: Could not find a version that satisfies the requirement module (from versions: none)\n",
      "ERROR: No matching distribution found for module\n"
     ]
    }
   ],
   "source": [
    "# !pip install requests\n",
    "# !pip install bs4\n",
    "# !pip install urllib3\n"
   ]
  },
  {
   "cell_type": "code",
   "execution_count": 53,
   "metadata": {},
   "outputs": [],
   "source": [
    "import requests\n",
    "import re\n",
    "from pathlib import Path\n",
    "import bs4\n",
    "# from urllib3 import request\n",
    "# from module import *"
   ]
  },
  {
   "cell_type": "code",
   "execution_count": 54,
   "metadata": {},
   "outputs": [],
   "source": [
    "URL_BASE = 'https://www.cs.bu.edu/fac/snyder/cs505/JavaFiles/'\n"
   ]
  },
  {
   "cell_type": "code",
   "execution_count": 55,
   "metadata": {},
   "outputs": [],
   "source": [
    "def get_file_names(url_base):\n",
    "    file_names = []\n",
    "    resp = requests.get(f\"{url_base}\")\n",
    "    # print(resp.text)\n",
    "    soup = bs4.BeautifulSoup(resp.text, 'html.parser')\n",
    "    # print(soup.prettify())  \n",
    "    for tr in soup.find_all('tr'):\n",
    "        for link in tr.find_all('a', href=True):\n",
    "            ## only find java files\n",
    "            if re.search(r'.*\\.java$', link['href']):\n",
    "                # print( link['href'] )\n",
    "                file_names.append( link['href'] )\n",
    "    return file_names\n"
   ]
  },
  {
   "cell_type": "code",
   "execution_count": 56,
   "metadata": {},
   "outputs": [],
   "source": [
    "def create_dir_if_not_exists(path):\n",
    "    if not Path(path).exists():\n",
    "        Path(path).mkdir()"
   ]
  },
  {
   "cell_type": "code",
   "execution_count": 59,
   "metadata": {},
   "outputs": [],
   "source": [
    "def get_file_from_url(url, fname=None, dir=\"./data\"):\n",
    "    create_dir_if_not_exists(dir)\n",
    "    if fname is None:\n",
    "        fname = url.split(\"/\")[-1]\n",
    "    response = requests.get(url)\n",
    "    print(\"downloading: \", url)\n",
    "    with open(f\"{dir}/{fname}\", \"w\") as f:\n",
    "        f.write(response.text)"
   ]
  },
  {
   "cell_type": "code",
   "execution_count": 60,
   "metadata": {},
   "outputs": [
    {
     "name": "stdout",
     "output_type": "stream",
     "text": [
      "downloading:  https://www.cs.bu.edu/fac/snyder/cs505/JavaFiles//BSTExperiment.java\n",
      "downloading:  https://www.cs.bu.edu/fac/snyder/cs505/JavaFiles//EightPuzzle.java\n",
      "downloading:  https://www.cs.bu.edu/fac/snyder/cs505/JavaFiles//Graph.java\n",
      "downloading:  https://www.cs.bu.edu/fac/snyder/cs505/JavaFiles//HashTableComparison.java\n",
      "downloading:  https://www.cs.bu.edu/fac/snyder/cs505/JavaFiles//HashTableLPResizing.java\n",
      "downloading:  https://www.cs.bu.edu/fac/snyder/cs505/JavaFiles//HashTableResizing.java\n",
      "downloading:  https://www.cs.bu.edu/fac/snyder/cs505/JavaFiles//HashTableSCExperiment.java\n",
      "downloading:  https://www.cs.bu.edu/fac/snyder/cs505/JavaFiles//MaxHeap.java\n",
      "downloading:  https://www.cs.bu.edu/fac/snyder/cs505/JavaFiles//Othello.java\n",
      "downloading:  https://www.cs.bu.edu/fac/snyder/cs505/JavaFiles//QuickSortAndMergesort.java\n",
      "downloading:  https://www.cs.bu.edu/fac/snyder/cs505/JavaFiles//RGSOld.java\n",
      "downloading:  https://www.cs.bu.edu/fac/snyder/cs505/JavaFiles//RecursionExamples.java\n",
      "downloading:  https://www.cs.bu.edu/fac/snyder/cs505/JavaFiles//RecursiveAlgorithsLL.java\n",
      "downloading:  https://www.cs.bu.edu/fac/snyder/cs505/JavaFiles//RecursiveGraphics.java\n",
      "downloading:  https://www.cs.bu.edu/fac/snyder/cs505/JavaFiles//Sort.java\n",
      "downloading:  https://www.cs.bu.edu/fac/snyder/cs505/JavaFiles//SortingApplet.java\n",
      "downloading:  https://www.cs.bu.edu/fac/snyder/cs505/JavaFiles//StringHash.java\n",
      "downloading:  https://www.cs.bu.edu/fac/snyder/cs505/JavaFiles//TicTacToe.java\n"
     ]
    }
   ],
   "source": [
    "file_names = get_file_names(URL_BASE)\n",
    "for file_name in file_names:\n",
    "    get_file_from_url(f\"{URL_BASE}/{file_name}\", file_name, \"./data\")"
   ]
  },
  {
   "cell_type": "code",
   "execution_count": null,
   "metadata": {},
   "outputs": [],
   "source": []
  }
 ],
 "metadata": {
  "kernelspec": {
   "display_name": "py39",
   "language": "python",
   "name": "python3"
  },
  "language_info": {
   "codemirror_mode": {
    "name": "ipython",
    "version": 3
   },
   "file_extension": ".py",
   "mimetype": "text/x-python",
   "name": "python",
   "nbconvert_exporter": "python",
   "pygments_lexer": "ipython3",
   "version": "3.9.13"
  }
 },
 "nbformat": 4,
 "nbformat_minor": 2
}
